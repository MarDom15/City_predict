{
 "cells": [
  {
   "cell_type": "code",
   "execution_count": 1,
   "metadata": {},
   "outputs": [
    {
     "name": "stdout",
     "output_type": "stream",
     "text": [
      "Fichier combiné et trié enregistré sous : C:\\Users\\marti\\Desktop\\dataof\\City_predict\\Manchester_City_Games.csv\n"
     ]
    }
   ],
   "source": [
    "import pandas as pd\n",
    "import os\n",
    "\n",
    "# Dossier contenant les fichiers\n",
    "folder_path = r\"C:\\Users\\marti\\Desktop\\dataof\\City_predict\"\n",
    "\n",
    "# Liste des fichiers à combiner\n",
    "file_names = [f\"manchester_city_matches_{i}.csv\" for i in range(8)]\n",
    "\n",
    "# Lire et combiner tous les fichiers CSV\n",
    "dataframes = []\n",
    "for file_name in file_names:\n",
    "    file_path = os.path.join(folder_path, file_name)\n",
    "    df = pd.read_csv(file_path)  # Charger chaque fichier\n",
    "    dataframes.append(df)\n",
    "\n",
    "# Combiner tous les DataFrames en un seul\n",
    "combined_df = pd.concat(dataframes, ignore_index=True)\n",
    "\n",
    "# Trier par date décroissante (la plus récente en haut)\n",
    "if 'Date' in combined_df.columns:\n",
    "    combined_df['Date'] = pd.to_datetime(combined_df['Date'], errors='coerce')  # Convertir la colonne en format datetime\n",
    "    combined_df = combined_df.sort_values(by='Date', ascending=False)          # Trier par date décroissante\n",
    "else:\n",
    "    print(\"Aucune colonne de date trouvée. Vérifiez le nom de la colonne.\")\n",
    "\n",
    "# Sauvegarder dans un nouveau fichier CSV\n",
    "output_file = os.path.join(folder_path, \"Manchester_City_Games.csv\")\n",
    "combined_df.to_csv(output_file, index=False)\n",
    "\n",
    "print(f\"Fichier combiné et trié enregistré sous : {output_file}\")\n"
   ]
  }
 ],
 "metadata": {
  "kernelspec": {
   "display_name": "base",
   "language": "python",
   "name": "python3"
  },
  "language_info": {
   "codemirror_mode": {
    "name": "ipython",
    "version": 3
   },
   "file_extension": ".py",
   "mimetype": "text/x-python",
   "name": "python",
   "nbconvert_exporter": "python",
   "pygments_lexer": "ipython3",
   "version": "3.12.4"
  }
 },
 "nbformat": 4,
 "nbformat_minor": 2
}
