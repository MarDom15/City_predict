{
 "cells": [
  {
   "cell_type": "code",
   "execution_count": 2,
   "metadata": {},
   "outputs": [
    {
     "name": "stdout",
     "output_type": "stream",
     "text": [
      "Les fichiers modifiés ont été sauvegardés sous :\n",
      "- C:\\Users\\marti\\Desktop\\dataof\\City_predict\\Manchester_City_Games_new.csv\n",
      "- C:\\Users\\marti\\Desktop\\dataof\\City_predict\\Excel_Manchester_City_Games_new.xlsx\n"
     ]
    }
   ],
   "source": [
    "import pandas as pd\n",
    "import os\n",
    "\n",
    "# Dossier contenant les fichiers\n",
    "folder_path = r\"C:\\Users\\marti\\Desktop\\dataof\\City_predict\"\n",
    "\n",
    "# Nom des fichiers originaux\n",
    "csv_file = os.path.join(folder_path, \"Manchester_City_Games.csv\")\n",
    "excel_file = os.path.join(folder_path, \"Excel_Manchester_City_Games.xlsx\")\n",
    "\n",
    "# Colonnes à supprimer\n",
    "columns_to_remove = ['Attendance', 'Match Report', 'Notes']\n",
    "\n",
    "# Fonction pour supprimer les colonnes et sauvegarder le fichier\n",
    "def remove_columns_and_save(input_file, output_file):\n",
    "    # Lire le fichier\n",
    "    if input_file.endswith('.csv'):\n",
    "        df = pd.read_csv(input_file)\n",
    "    elif input_file.endswith('.xlsx'):\n",
    "        df = pd.read_excel(input_file, engine='openpyxl')\n",
    "    \n",
    "    # Supprimer les colonnes spécifiées\n",
    "    df = df.drop(columns=[col for col in columns_to_remove if col in df.columns])\n",
    "    \n",
    "    # Sauvegarder dans le même format\n",
    "    if input_file.endswith('.csv'):\n",
    "        df.to_csv(output_file, index=False)\n",
    "    elif input_file.endswith('.xlsx'):\n",
    "        df.to_excel(output_file, index=False, engine='openpyxl')\n",
    "\n",
    "# Sauvegarder les fichiers avec '_new' dans le nom\n",
    "csv_new_file = os.path.join(folder_path, \"Manchester_City_Games_new.csv\")\n",
    "excel_new_file = os.path.join(folder_path, \"Excel_Manchester_City_Games_new.xlsx\")\n",
    "\n",
    "# Supprimer les colonnes et sauvegarder les nouveaux fichiers\n",
    "remove_columns_and_save(csv_file, csv_new_file)\n",
    "remove_columns_and_save(excel_file, excel_new_file)\n",
    "\n",
    "print(f\"Les fichiers modifiés ont été sauvegardés sous :\")\n",
    "print(f\"- {csv_new_file}\")\n",
    "print(f\"- {excel_new_file}\")\n"
   ]
  }
 ],
 "metadata": {
  "kernelspec": {
   "display_name": "base",
   "language": "python",
   "name": "python3"
  },
  "language_info": {
   "codemirror_mode": {
    "name": "ipython",
    "version": 3
   },
   "file_extension": ".py",
   "mimetype": "text/x-python",
   "name": "python",
   "nbconvert_exporter": "python",
   "pygments_lexer": "ipython3",
   "version": "3.12.4"
  }
 },
 "nbformat": 4,
 "nbformat_minor": 2
}
