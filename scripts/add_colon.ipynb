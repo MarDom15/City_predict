{
 "cells": [
  {
   "cell_type": "code",
   "execution_count": 2,
   "metadata": {},
   "outputs": [
    {
     "name": "stdout",
     "output_type": "stream",
     "text": [
      "Les fichiers modifiés ont été sauvegardés sous :\n",
      "- C:\\Users\\marti\\Desktop\\dataof\\City_predict\\Manchester_City_Games_def.csv\n",
      "- C:\\Users\\marti\\Desktop\\dataof\\City_predict\\Excel_Manchester_City_Games_def.xlsx\n"
     ]
    }
   ],
   "source": [
    "import pandas as pd\n",
    "import os\n",
    "\n",
    "# Dossier contenant les fichiers\n",
    "folder_path = r\"C:\\Users\\marti\\Desktop\\dataof\\City_predict\"\n",
    "\n",
    "# Nom des fichiers originaux\n",
    "csv_file = os.path.join(folder_path, \"Manchester_City_Games_new.csv\")\n",
    "excel_file = os.path.join(folder_path, \"Excel_Manchester_City_Games_new.xlsx\")\n",
    "\n",
    "# Colonnes à ajouter avec des valeurs par défaut (vous pouvez ajuster les valeurs)\n",
    "new_columns = {\n",
    "    \"Rodri_fit\": None,  # Vous pouvez remplacer 'None' par une valeur réelle si disponible\n",
    "    \"Debruyne_fit\": None,\n",
    "    \"Coach_ad\": None,\n",
    "    \"Pep_vs_Cad\": None,\n",
    "    \"Pep_perWin_Cad\": None,\n",
    "    \"Win_last_6G_ad\": None,\n",
    "    \"Win_last_6G_Ge\": None\n",
    "}\n",
    "\n",
    "# Fonction pour ajouter des colonnes et sauvegarder le fichier\n",
    "def add_columns_and_save(input_file, output_file):\n",
    "    # Lire le fichier\n",
    "    if input_file.endswith('.csv'):\n",
    "        df = pd.read_csv(input_file)\n",
    "    elif input_file.endswith('.xlsx'):\n",
    "        df = pd.read_excel(input_file, engine='openpyxl')\n",
    "    \n",
    "    # Ajouter les nouvelles colonnes avec des valeurs par défaut\n",
    "    for column, value in new_columns.items():\n",
    "        df[column] = value\n",
    "    \n",
    "    # Sauvegarder dans le même format\n",
    "    if input_file.endswith('.csv'):\n",
    "        df.to_csv(output_file, index=False)\n",
    "    elif input_file.endswith('.xlsx'):\n",
    "        df.to_excel(output_file, index=False, engine='openpyxl')\n",
    "\n",
    "# Sauvegarder les fichiers avec '_def' dans le nom\n",
    "csv_def_file = os.path.join(folder_path, \"Manchester_City_Games_def.csv\")\n",
    "excel_def_file = os.path.join(folder_path, \"Excel_Manchester_City_Games_def.xlsx\")\n",
    "\n",
    "# Ajouter les colonnes et sauvegarder les nouveaux fichiers\n",
    "add_columns_and_save(csv_file, csv_def_file)\n",
    "add_columns_and_save(excel_file, excel_def_file)\n",
    "\n",
    "print(f\"Les fichiers modifiés ont été sauvegardés sous :\")\n",
    "print(f\"- {csv_def_file}\")\n",
    "print(f\"- {excel_def_file}\")\n"
   ]
  }
 ],
 "metadata": {
  "kernelspec": {
   "display_name": "base",
   "language": "python",
   "name": "python3"
  },
  "language_info": {
   "codemirror_mode": {
    "name": "ipython",
    "version": 3
   },
   "file_extension": ".py",
   "mimetype": "text/x-python",
   "name": "python",
   "nbconvert_exporter": "python",
   "pygments_lexer": "ipython3",
   "version": "3.12.4"
  }
 },
 "nbformat": 4,
 "nbformat_minor": 2
}
