{
 "cells": [
  {
   "cell_type": "code",
   "execution_count": 1,
   "metadata": {},
   "outputs": [
    {
     "name": "stdout",
     "output_type": "stream",
     "text": [
      "Données extraites et enregistrées dans : C:\\Users\\marti\\Desktop\\dataof\\City_predict\\manchester_city_matches.csv\n"
     ]
    }
   ],
   "source": [
    "import requests\n",
    "from bs4 import BeautifulSoup\n",
    "import pandas as pd\n",
    "import os\n",
    "\n",
    "# URL de la page FBref\n",
    "url = \"https://fbref.com/en/squads/b8fd03ef/2023-2024/matchlogs/c9/schedule/Manchester-City-Scores-and-Fixtures-Premier-League\"\n",
    "\n",
    "# Récupération de la page HTML\n",
    "response = requests.get(url)\n",
    "if response.status_code != 200:\n",
    "    print(f\"Erreur lors du téléchargement des données. Code: {response.status_code}\")\n",
    "    exit()\n",
    "\n",
    "# Parser le HTML avec BeautifulSoup\n",
    "soup = BeautifulSoup(response.content, 'html.parser')\n",
    "\n",
    "# Identifier le tableau des matchs\n",
    "table = soup.find('table', {'id': 'matchlogs_for'})  # L'ID spécifique du tableau\n",
    "\n",
    "# Extraction des données du tableau\n",
    "headers = [th.text for th in table.find('thead').find_all('th')]  # En-têtes des colonnes\n",
    "rows = []\n",
    "for tr in table.find('tbody').find_all('tr'):\n",
    "    row = [td.text.strip() for td in tr.find_all(['th', 'td'])]\n",
    "    rows.append(row)\n",
    "\n",
    "# Création d'un DataFrame pandas\n",
    "df = pd.DataFrame(rows, columns=headers)\n",
    "\n",
    "# Spécifiez le dossier de sauvegarde\n",
    "save_folder = r\"C:\\Users\\marti\\Desktop\\dataof\\City_predict\"  # Utilisez \"r\" pour les chemins Windows\n",
    "os.makedirs(save_folder, exist_ok=True)  # Crée le dossier s'il n'existe pas\n",
    "\n",
    "# Sauvegarde du fichier CSV\n",
    "csv_file = os.path.join(save_folder, \"manchester_city_matches.csv\")\n",
    "df.to_csv(csv_file, index=False)\n",
    "\n",
    "print(f\"Données extraites et enregistrées dans : {csv_file}\")\n"
   ]
  }
 ],
 "metadata": {
  "kernelspec": {
   "display_name": "base",
   "language": "python",
   "name": "python3"
  },
  "language_info": {
   "codemirror_mode": {
    "name": "ipython",
    "version": 3
   },
   "file_extension": ".py",
   "mimetype": "text/x-python",
   "name": "python",
   "nbconvert_exporter": "python",
   "pygments_lexer": "ipython3",
   "version": "3.12.4"
  }
 },
 "nbformat": 4,
 "nbformat_minor": 2
}
