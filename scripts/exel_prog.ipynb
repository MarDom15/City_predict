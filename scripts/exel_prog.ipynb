{
 "cells": [
  {
   "cell_type": "code",
   "execution_count": 1,
   "metadata": {},
   "outputs": [
    {
     "name": "stdout",
     "output_type": "stream",
     "text": [
      "Fichier Excel créé avec succès : C:\\Users\\marti\\Desktop\\dataof\\City_predict\\Excel_Manchester_City_Games.xlsx\n"
     ]
    }
   ],
   "source": [
    "import pandas as pd\n",
    "import os\n",
    "\n",
    "# Chemin du fichier CSV à transformer\n",
    "folder_path = r\"C:\\Users\\marti\\Desktop\\dataof\\City_predict\"\n",
    "csv_file = os.path.join(folder_path, \"Manchester_City_Games.csv\")\n",
    "\n",
    "# Vérification si le fichier CSV existe\n",
    "if not os.path.exists(csv_file):\n",
    "    print(f\"Le fichier CSV n'existe pas : {csv_file}\")\n",
    "    exit()\n",
    "\n",
    "# Lire le fichier CSV\n",
    "df = pd.read_csv(csv_file)\n",
    "\n",
    "# Chemin du fichier Excel de sortie\n",
    "excel_file = os.path.join(folder_path, \"Excel_Manchester_City_Games.xlsx\")\n",
    "\n",
    "# Sauvegarder en fichier Excel\n",
    "df.to_excel(excel_file, index=False, engine='openpyxl')\n",
    "\n",
    "print(f\"Fichier Excel créé avec succès : {excel_file}\")\n"
   ]
  }
 ],
 "metadata": {
  "kernelspec": {
   "display_name": "base",
   "language": "python",
   "name": "python3"
  },
  "language_info": {
   "codemirror_mode": {
    "name": "ipython",
    "version": 3
   },
   "file_extension": ".py",
   "mimetype": "text/x-python",
   "name": "python",
   "nbconvert_exporter": "python",
   "pygments_lexer": "ipython3",
   "version": "3.12.4"
  }
 },
 "nbformat": 4,
 "nbformat_minor": 2
}
